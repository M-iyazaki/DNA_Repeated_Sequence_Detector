{
 "cells": [
  {
   "cell_type": "markdown",
   "metadata": {},
   "source": [
    "テキストを.npファイルに変換"
   ]
  },
  {
   "cell_type": "code",
   "execution_count": null,
   "metadata": {},
   "outputs": [],
   "source": [
    "a=seq"
   ]
  },
  {
   "cell_type": "code",
   "execution_count": null,
   "metadata": {},
   "outputs": [],
   "source": [
    "with open('RSD.txt', mode='a') as f:\n",
    "    f.write('\\n'+name+'\\t'+str(len(a)))"
   ]
  },
  {
   "cell_type": "code",
   "execution_count": null,
   "metadata": {},
   "outputs": [],
   "source": [
    "b=seq"
   ]
  },
  {
   "cell_type": "code",
   "execution_count": null,
   "metadata": {},
   "outputs": [],
   "source": [
    "A=np.zeros(len(a)).astype('str')\n",
    "for i in range(len(a)):\n",
    "    A[i]=a[i]\n",
    "\n",
    "B=np.zeros(len(b)).astype('str')\n",
    "for i in range(len(b)):\n",
    "    B[i]=b[i]"
   ]
  },
  {
   "cell_type": "code",
   "execution_count": null,
   "metadata": {},
   "outputs": [],
   "source": [
    "X=A\n",
    "Y=B"
   ]
  },
  {
   "cell_type": "code",
   "execution_count": null,
   "metadata": {},
   "outputs": [],
   "source": [
    "#NF2の決定\n",
    "E1=0\n",
    "for i in range(10+1, 1000):\n",
    "    E1 = E1 + (9/16)*( (1/4)**i )*(i**2)\n",
    "\n",
    "NF2List=[1]\n",
    "for NF2 in NF2List:\n",
    "    E2=0\n",
    "    for i in range(NF2+1, 1000):\n",
    "        E2 = E2 + (9/16)*( (1/4)**i )*(i**2)\n",
    "    if(len(seq)*E2 <= 1988*E1):\n",
    "        break\n",
    "    else:\n",
    "        NF2List.append(NF2+1)\n",
    "NF2=NF2List[-1]"
   ]
  },
  {
   "cell_type": "code",
   "execution_count": null,
   "metadata": {},
   "outputs": [],
   "source": [
    "#パラメータ決定\n",
    "lengthOfRepeat=2000\n",
    "NF1=0\n",
    "#NF2=10\n",
    "L1 = np.round(lengthOfRepeat/20).astype(np.int)\n",
    "density = (2*NF2+1+1+1)/L1\n",
    "L1_R = np.round(lengthOfRepeat/4).astype(np.int)\n",
    "L2 = np.round(lengthOfRepeat/4).astype(np.int)\n",
    "minLength = np.round(lengthOfRepeat/2).astype(np.int)\n",
    "Ratio=1.5\n",
    "N_fourier=10"
   ]
  },
  {
   "cell_type": "markdown",
   "metadata": {},
   "source": [
    "Yに'N'を付け加えてXの長さにそろえる"
   ]
  },
  {
   "cell_type": "code",
   "execution_count": null,
   "metadata": {},
   "outputs": [],
   "source": [
    "Z=np.repeat('N',len(X)-len(Y))\n",
    "Y_=np.concatenate([Y, Z])\n",
    "Y=Y_"
   ]
  },
  {
   "cell_type": "markdown",
   "metadata": {},
   "source": [
    "ATGCの4種類の行を作る"
   ]
  },
  {
   "cell_type": "code",
   "execution_count": null,
   "metadata": {},
   "outputs": [],
   "source": [
    "A_Line=np.zeros(len(Y), dtype=np.int8)\n",
    "for i in range(len(Y)):\n",
    "    if(Y[-i]=='A'):\n",
    "        A_Line[i]=1\n",
    "\n",
    "T_Line=np.zeros(len(Y), dtype=np.int8)\n",
    "for i in range(len(Y)):\n",
    "    if(Y[-i]=='T'):\n",
    "        T_Line[i]=1\n",
    "\n",
    "G_Line=np.zeros(len(Y), dtype=np.int8)\n",
    "for i in range(len(Y)):\n",
    "    if(Y[-i]=='G'):\n",
    "        G_Line[i]=1\n",
    "\n",
    "C_Line=np.zeros(len(Y), dtype=np.int8)\n",
    "for i in range(len(Y)):\n",
    "    if(Y[-i]=='C'):\n",
    "        C_Line[i]=1"
   ]
  },
  {
   "cell_type": "markdown",
   "metadata": {},
   "source": [
    "行列を作る"
   ]
  },
  {
   "cell_type": "code",
   "execution_count": null,
   "metadata": {},
   "outputs": [],
   "source": [
    "Matrix=np.zeros([len(X),len(Y)], dtype=np.int8)\n",
    "for i in range(len(X)):\n",
    "    if(X[i]=='A'):\n",
    "        Matrix[i]=np.roll(A_Line,i)\n",
    "    elif(X[i]=='T'):\n",
    "        Matrix[i]=np.roll(T_Line,i)\n",
    "    elif(X[i]=='G'):\n",
    "        Matrix[i]=np.roll(G_Line,i)\n",
    "    elif(X[i]=='C'):\n",
    "        Matrix[i]=np.roll(C_Line,i)"
   ]
  },
  {
   "cell_type": "markdown",
   "metadata": {},
   "source": [
    "n連続の1をnに置換"
   ]
  },
  {
   "cell_type": "code",
   "execution_count": null,
   "metadata": {},
   "outputs": [],
   "source": [
    "Hight=Matrix.shape[0]\n",
    "Width=Matrix.shape[1]\n",
    "Matrix[:,0]=np.zeros(Hight, dtype=np.int8)"
   ]
  },
  {
   "cell_type": "code",
   "execution_count": null,
   "metadata": {},
   "outputs": [],
   "source": [
    "Matrix=Matrix.T\n",
    "Matrix=Matrix.astype('int16')"
   ]
  },
  {
   "cell_type": "code",
   "execution_count": null,
   "metadata": {},
   "outputs": [],
   "source": [
    "@jit(i2[:,:](i2[:,:]), nopython=True)\n",
    "def f(M):\n",
    "    for i in range(M.shape[0]):\n",
    "        oneCount=0\n",
    "        posi=0\n",
    "        for j in range(M.shape[1]):\n",
    "            if(M[i,j]==1):\n",
    "                if(oneCount==0):\n",
    "                    posi=j\n",
    "                oneCount += 1\n",
    "            elif(oneCount>=1):\n",
    "                M[i, posi: j]=oneCount\n",
    "                oneCount=0\n",
    "        if(M[i,j]==1):\n",
    "            M[i, posi: j+1]=oneCount\n",
    "            oneCount=0\n",
    "    return M"
   ]
  },
  {
   "cell_type": "code",
   "execution_count": null,
   "metadata": {},
   "outputs": [],
   "source": [
    "Matrix=f(Matrix)"
   ]
  },
  {
   "cell_type": "code",
   "execution_count": null,
   "metadata": {},
   "outputs": [],
   "source": [
    "if(np.max(Matrix)<=127):\n",
    "    Matrix=Matrix.astype('int8')"
   ]
  },
  {
   "cell_type": "code",
   "execution_count": null,
   "metadata": {},
   "outputs": [],
   "source": [
    "Matrix=Matrix.T"
   ]
  },
  {
   "cell_type": "markdown",
   "metadata": {},
   "source": [
    "反復配列の検出"
   ]
  },
  {
   "cell_type": "code",
   "execution_count": null,
   "metadata": {},
   "outputs": [],
   "source": [
    "for j in [NF1, NF2]:\n",
    "    if(j!=0):   \n",
    "        noise_free=j\n",
    "        Matrix=np.where(Matrix<=j,0,Matrix)\n",
    "    repeated_sequence=np.zeros(Hight)\n",
    "    for i in range(Hight):\n",
    "        repeated_sequence[i]=np.sum(Matrix[i])\n",
    "    if(j==NF1):\n",
    "        repeated_sequence_NF1=repeated_sequence\n",
    "    if(j==NF2):\n",
    "        repeated_sequence_NF2=repeated_sequence\n",
    "\n",
    "del Matrix\n",
    "gc.collect()"
   ]
  },
  {
   "cell_type": "markdown",
   "metadata": {},
   "source": [
    "反復配列の領域を求める"
   ]
  },
  {
   "cell_type": "code",
   "execution_count": null,
   "metadata": {},
   "outputs": [],
   "source": [
    "a=repeated_sequence_NF2.copy()"
   ]
  },
  {
   "cell_type": "code",
   "execution_count": null,
   "metadata": {},
   "outputs": [],
   "source": [
    "b=np.where(a>0,1,a)\n",
    "\n",
    "#ノイズ除去\n",
    "c=np.zeros(len(b))\n",
    "for i in range(L1, len(b)-L1):\n",
    "    if(b[i]==1):\n",
    "        left=( np.count_nonzero(b[i-L1: i]==1) )/L1\n",
    "        right=( np.count_nonzero(b[i+1: i+L1+1]==1) )/L1\n",
    "        if( left<=density and right<=density ):\n",
    "            c[i]=-1\n",
    "b=(b+c).copy()\n",
    "\n",
    "#領域検出\n",
    "c=np.zeros(len(b))\n",
    "for i in range(L1_R, len(b)-L1_R):\n",
    "    if(b[i]==0):\n",
    "        if( (1 in b[i-L1_R: i]) and (1 in b[i+1: i+L1_R+1]) ):\n",
    "            c[i]=1\n",
    "b=(b+c).copy()\n",
    "\n",
    "b[0]=0\n",
    "b[-1]=0\n",
    "b_diff=np.roll(b,-1)-b\n",
    "startArray=np.where(b_diff==1)[0]\n",
    "endArray=np.where(b_diff==-1)[0]"
   ]
  },
  {
   "cell_type": "code",
   "execution_count": null,
   "metadata": {},
   "outputs": [],
   "source": [
    "plt.figure(figsize=(20,10))\n",
    "plt.title(name)\n",
    "plt.plot(a)\n",
    "plt.plot(b*np.max(a))\n",
    "plt.savefig(name)\n",
    "plt.close()"
   ]
  },
  {
   "cell_type": "markdown",
   "metadata": {},
   "source": [
    "領域に含まれる反復配列の個数を求める"
   ]
  },
  {
   "cell_type": "code",
   "execution_count": null,
   "metadata": {},
   "outputs": [],
   "source": [
    "a=repeated_sequence_NF1.copy()"
   ]
  },
  {
   "cell_type": "code",
   "execution_count": null,
   "metadata": {},
   "outputs": [],
   "source": [
    "b=np.zeros(len(a))    \n",
    "for i in range(L2,len(a)):\n",
    "    if(i+L2+1>len(a)):\n",
    "        break\n",
    "    else:\n",
    "        b[i] = a[i-L2: i+L2+1].mean()\n",
    "average_count=b.copy()"
   ]
  },
  {
   "cell_type": "code",
   "execution_count": null,
   "metadata": {},
   "outputs": [],
   "source": [
    "a=average_count.copy()"
   ]
  },
  {
   "cell_type": "code",
   "execution_count": null,
   "metadata": {},
   "outputs": [],
   "source": [
    "E_value=0\n",
    "for i in range(NF2+1, 1000):\n",
    "    E_value = E_value + (9/16)*( (1/4)**i )*(i**2)"
   ]
  },
  {
   "cell_type": "code",
   "execution_count": null,
   "metadata": {},
   "outputs": [],
   "source": [
    "if(len(startArray)==0):\n",
    "    with open('RSD.txt', mode='a') as f:\n",
    "        f.write('\\tnot exist1')\n",
    "else:\n",
    "    continueCounter=0\n",
    "    for j in range(0,len(startArray)):\n",
    "        startIndex=startArray[j].astype(np.int)\n",
    "        endIndex=endArray[j].astype(np.int)\n",
    "        \n",
    "        if(startIndex<=L2):\n",
    "            startIndex=L2\n",
    "        if(endIndex>=len(seq)-L2-1):\n",
    "            endIndex=len(seq)-L2-1        \n",
    "        if( (endIndex-startIndex) < minLength ):\n",
    "            continueCounter=continueCounter+1\n",
    "            continue\n",
    "        else:\n",
    "            if( (endIndex-startIndex)<lengthOfRepeat/Ratio ):\n",
    "                count_e=1\n",
    "                First=1\n",
    "                candidate=1\n",
    "                Length=endIndex-startIndex\n",
    "            else:\n",
    "                count_e = np.round( (endIndex-startIndex) / lengthOfRepeat ).astype(np.int)\n",
    "                #以下はフーリエ変換\n",
    "                A = a[startIndex : endIndex]\n",
    "                X=( abs(np.fft.fft(A))/len(A) )*2\n",
    "                X[0]=0\n",
    "                for k in range(N_fourier):\n",
    "                    First = np.argmax(X[0: math.floor(len(A)/2)])\n",
    "                    Length = len(A) / First\n",
    "                    Length = math.floor(Length)\n",
    "                    if( lengthOfRepeat/Ratio <= Length <= lengthOfRepeat*Ratio):\n",
    "                        break\n",
    "                    else:\n",
    "                        X[First]=0\n",
    "                candidate=k+1\n",
    "                \n",
    "                if(k==N_fourier-1):\n",
    "                    if( (Length < lengthOfRepeat/Ratio) or (Length > lengthOfRepeat*Ratio) ):\n",
    "                        First=0\n",
    "                        candidate=0\n",
    "                        Length=endIndex-startIndex\n",
    "\n",
    "            determinant = np.log10( repeated_sequence_NF2[startIndex: endIndex].mean()/ (E_value*len(seq)) )\n",
    "            if(j==continueCounter):        \n",
    "                with open('RSD.txt', mode='a') as f:\n",
    "                    f.write('\\t'+str(NF2)+\n",
    "                            '\\t'+str(startIndex)+\n",
    "                            '\\t'+str(endIndex)+\n",
    "                            '\\t'+str(count_e)+\n",
    "                            '\\t'+str(First)+\n",
    "                            '\\t'+str(candidate)+\n",
    "                            '\\t'+str(Length)+\n",
    "                            '\\t'+str(determinant))                \n",
    "            else:\n",
    "                with open('RSD.txt', mode='a') as f:\n",
    "                    f.write('\\n'+name+\n",
    "                            '\\t'+str(len(seq))+\n",
    "                            '\\t'+str(NF2)+\n",
    "                            '\\t'+str(startIndex)+\n",
    "                            '\\t'+str(endIndex)+\n",
    "                            '\\t'+str(count_e)+\n",
    "                            '\\t'+str(First)+\n",
    "                            '\\t'+str(candidate)+\n",
    "                            '\\t'+str(Length)+\n",
    "                            '\\t'+str(determinant))\n",
    "    if(continueCounter==len(startArray)):\n",
    "        with open('RSD.txt', mode='a') as f:\n",
    "            f.write('\\tnot exist2')       "
   ]
  }
 ],
 "metadata": {
  "kernelspec": {
   "display_name": "Python 3",
   "language": "python",
   "name": "python3"
  },
  "language_info": {
   "codemirror_mode": {
    "name": "ipython",
    "version": 3
   },
   "file_extension": ".py",
   "mimetype": "text/x-python",
   "name": "python",
   "nbconvert_exporter": "python",
   "pygments_lexer": "ipython3",
   "version": "3.7.6"
  }
 },
 "nbformat": 4,
 "nbformat_minor": 4
}
