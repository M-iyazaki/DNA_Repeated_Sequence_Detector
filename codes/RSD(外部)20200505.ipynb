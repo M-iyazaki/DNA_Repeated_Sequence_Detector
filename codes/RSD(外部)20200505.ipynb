{
 "cells": [
  {
   "cell_type": "markdown",
   "metadata": {},
   "source": [
    "インポート"
   ]
  },
  {
   "cell_type": "code",
   "execution_count": null,
   "metadata": {},
   "outputs": [],
   "source": [
    "import numpy as np\n",
    "from tqdm import tqdm\n",
    "import matplotlib.pyplot as plt\n",
    "import gc\n",
    "from scipy import signal\n",
    "import math\n",
    "from numba import jit, i2\n",
    "import datetime"
   ]
  },
  {
   "cell_type": "markdown",
   "metadata": {},
   "source": [
    "テキストファイルの読み込み"
   ]
  },
  {
   "cell_type": "code",
   "execution_count": null,
   "metadata": {},
   "outputs": [],
   "source": [
    "sequenceFileName='testSequence.txt'\n",
    "f = open(sequenceFileName, 'r')\n",
    "sequenceList = f.readlines()\n",
    "f.close()"
   ]
  },
  {
   "cell_type": "markdown",
   "metadata": {},
   "source": [
    "テキストファイルの作成"
   ]
  },
  {
   "cell_type": "code",
   "execution_count": null,
   "metadata": {},
   "outputs": [],
   "source": [
    "dt_now = datetime.datetime.now()\n",
    "\n",
    "with open('RSD.txt', mode='a') as f:\n",
    "    f.write('\\nDNA_Repeated_Sequence_Detector'+\n",
    "            '\\n\\n開始時刻　'+dt_now.strftime('%Y-%m-%d %H:%M:%S')+\n",
    "            '\\n') "
   ]
  },
  {
   "cell_type": "code",
   "execution_count": null,
   "metadata": {},
   "outputs": [],
   "source": [
    "with open('RSD.txt', mode='a') as f:\n",
    "    f.write('\\nSequenceファイルの名前　'+sequenceFileName) "
   ]
  },
  {
   "cell_type": "code",
   "execution_count": null,
   "metadata": {},
   "outputs": [],
   "source": [
    "nameCounter=0\n",
    "for i in range(len(sequenceList)):\n",
    "    if('>' in sequenceList[i]):\n",
    "        nameCounter=nameCounter+1\n",
    "with open('RSD.txt', mode='a') as f:\n",
    "    f.write('\\nSequenceファイル中のSequenceの個数　'+str(nameCounter)+\n",
    "            '\\n') "
   ]
  },
  {
   "cell_type": "code",
   "execution_count": null,
   "metadata": {},
   "outputs": [],
   "source": [
    "with open('RSD.txt', mode='a') as f:\n",
    "    f.write('\\n元の配列の名前'+\n",
    "            '\\t配列の長さ'+\n",
    "            '\\tNF2'+\n",
    "            '\\t反復配列開始位置'+\n",
    "            '\\t反復配列終了位置'+\n",
    "            '\\t反復配列の個数(推定)'+\n",
    "            '\\t反復配列の個数(フーリエ変換)'+\n",
    "            '\\t第n候補'+\n",
    "            '\\t反復配列の長さ(フーリエ変換)'+\n",
    "            '\\t領域判定値')"
   ]
  },
  {
   "cell_type": "code",
   "execution_count": null,
   "metadata": {},
   "outputs": [],
   "source": [
    "Index=0\n",
    "for j in tqdm(range(nameCounter)):\n",
    "    name=''\n",
    "    seq=''\n",
    "    counter=0\n",
    "    for i in range(Index,len(sequenceList)):   \n",
    "        if( ('>'in sequenceList[i]) and (counter==0) ):\n",
    "            name=name+\"'\"+sequenceList[i][1:-1]\n",
    "            counter=counter+1\n",
    "        elif( ('>'in sequenceList[i]) and (counter>0) ):\n",
    "            Index=i\n",
    "            break\n",
    "        else:\n",
    "            seq=seq+sequenceList[i][0:-1]\n",
    "    \n",
    "    %run RSD(内部)20200505.ipynb\n",
    "\n",
    "dt_now = datetime.datetime.now()\n",
    "with open('RSD.txt', mode='a') as f:\n",
    "    f.write('\\n\\n終了時刻　'+dt_now.strftime('%Y-%m-%d %H:%M:%S')+\n",
    "            '\\n') "
   ]
  },
  {
   "cell_type": "code",
   "execution_count": null,
   "metadata": {},
   "outputs": [],
   "source": []
  }
 ],
 "metadata": {
  "kernelspec": {
   "display_name": "Python 3",
   "language": "python",
   "name": "python3"
  },
  "language_info": {
   "codemirror_mode": {
    "name": "ipython",
    "version": 3
   },
   "file_extension": ".py",
   "mimetype": "text/x-python",
   "name": "python",
   "nbconvert_exporter": "python",
   "pygments_lexer": "ipython3",
   "version": "3.7.6"
  }
 },
 "nbformat": 4,
 "nbformat_minor": 4
}
